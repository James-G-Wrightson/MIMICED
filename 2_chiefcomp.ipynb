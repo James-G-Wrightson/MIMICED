{
 "cells": [
  {
   "cell_type": "code",
   "execution_count": null,
   "id": "cfba7bf6",
   "metadata": {},
   "outputs": [],
   "source": [
    "import os\n",
    "import pandas as pd\n",
    "import re\n",
    "import nltk\n",
    "from nltk.corpus import stopwords\n",
    "nltk.download('stopwords')\n",
    "import torch\n",
    "import pyarrow\n",
    "import numpy as np\n",
    "from sentence_transformers import SentenceTransformer\n",
    "from sklearn.cluster import KMeans\n",
    "from sklearn.decomposition import PCA\n",
    "import matplotlib.pyplot as plt\n",
    "import matplotlib.ticker as ticker\n",
    "from sklearn.feature_extraction.text import CountVectorizer\n",
    "from collections import Counter"
   ]
  },
  {
   "cell_type": "markdown",
   "id": "477fed2a",
   "metadata": {},
   "source": [
    "# Intro"
   ]
  },
  {
   "cell_type": "markdown",
   "id": "3246abe6",
   "metadata": {},
   "source": [
    "In this notebook, I use a sentence transformer, PCA and K-means clustering to turn the free text chief complaint into ca category varibale that can be used for analysis "
   ]
  },
  {
   "cell_type": "markdown",
   "id": "7964b356",
   "metadata": {},
   "source": [
    "# Data"
   ]
  },
  {
   "cell_type": "markdown",
   "id": "77b1853a",
   "metadata": {},
   "source": [
    "Data comes from the first [notebook](/1_mimic_data.ipynb) in this repo, which must be run first "
   ]
  },
  {
   "cell_type": "code",
   "execution_count": 5,
   "id": "21b001ed",
   "metadata": {},
   "outputs": [
    {
     "name": "stdout",
     "output_type": "stream",
     "text": [
      "File found: ed_join_cc.parquet\n"
     ]
    }
   ],
   "source": [
    "file_path = 'ed_join_cc.parquet'\n",
    "if not os.path.exists(file_path):\n",
    "    raise FileNotFoundError(f\"File not found: {file_path}. Have you run the previous notebook?\")\n",
    "else:\n",
    "    print(f\"File found: {file_path}\")"
   ]
  },
  {
   "cell_type": "code",
   "execution_count": 2,
   "id": "19174a6d",
   "metadata": {},
   "outputs": [],
   "source": [
    "data = pd.read_parquet('ed_join_cc.parquet')\n",
    "data = data[['stay_id', 'chiefcomplaint']]"
   ]
  },
  {
   "cell_type": "markdown",
   "id": "4164a24d",
   "metadata": {},
   "source": [
    "# Create Category"
   ]
  },
  {
   "cell_type": "markdown",
   "id": "223bb2c7",
   "metadata": {},
   "source": [
    "Clean the text"
   ]
  },
  {
   "cell_type": "code",
   "execution_count": 3,
   "id": "ea7d2ae5",
   "metadata": {},
   "outputs": [],
   "source": [
    "# Common abbreviations from MIMIC\n",
    "abbreviation_dict = {\n",
    "    \"r/o\": \"rule out\",\n",
    "    \"l\": \"left\",\n",
    "    \"L\": \"left\",\n",
    "    \"r\": \"right\",\n",
    "    \"R\": \"right\",\n",
    "    \"rt.\": \"right\",\n",
    "    \"s/p\": \"status post\",\n",
    "    \"mvc\": \"motor vehicle collision\",\n",
    "    \"ha\": \"headache\",\n",
    "    \"h/a\": \"headache\",\n",
    "    \"n/v\": \"nausea and vomiting\",\n",
    "    \"nv\": \"nausea and vomiting\",\n",
    "    \"abd\": \"abdomen\",\n",
    "    \"etoh\": \"alcohol intoxication\",\n",
    "    \"lbp\": \"lower back pain\",\n",
    "    \"ili\": \"influenza-like illness\",\n",
    "    \"post op\": \"post operative\",\n",
    "    \"rle\": \"right lower extremity\",\n",
    "    \"lle\": \"left lower extremity\",\n",
    "    \"eval\": \"evaluation\",\n",
    "    \"ped\": \"pedestrian\",\n",
    "    \"b\": \"bilateral\",\n",
    "    \"dvt\": \"deep vein thrombosis\",\n",
    "    \"rx\": \"prescription\",\n",
    "    \"rue\": \"right upper extremity\",\n",
    "    \"lue\": \"left upper extremity\",\n",
    "    \"ruq\": \"right upper quadrant\",\n",
    "    \"rlq\": \"right lower quadrant\",\n",
    "    \"luq\": \"left upper quadrant\",\n",
    "    \"llq\": \"left lower quadrant\",\n",
    "    \"fx\": \"fracture\",\n",
    "    \"sz\": \"seizure\",\n",
    "    \"inj\": \"injury\",\n",
    "    \"sah\": \"subarachnoid hemorrhage\",\n",
    "    \"si\": \"suicidal ideation\",\n",
    "    \"hi\": \"homicidal ideation\",\n",
    "    \"sob\": \"shortness of breath\"\n",
    "}\n",
    "def clean_text(text):\n",
    "    if not isinstance(text, str):\n",
    "        return ''\n",
    "    text = text.lower()\n",
    "    # Replace abbreviations using word boundaries\n",
    "    for abbr, full_form in abbreviation_dict.items():\n",
    "        pattern = r'\\b' + re.escape(abbr) + r'\\b'\n",
    "        text = re.sub(pattern, full_form, text)\n",
    "    # Normalize spacing and remove non-alpha characters\n",
    "    text = re.sub(r'[^a-z\\s]', ' ', text)\n",
    "    text = re.sub(r'\\s+', ' ', text).strip()\n",
    "    # Remove selected terms\n",
    "    text = re.sub(r'\\b(left|right|status post|motor)\\b', '', text)\n",
    "    # Remove stopwords\n",
    "    stop_words = set(stopwords.words('english'))\n",
    "    tokens = [word for word in text.split() if word not in stop_words]\n",
    "    return ' '.join(tokens)\n",
    "\n",
    "data['cc_cleaned'] = data['chiefcomplaint'].apply(clean_text)"
   ]
  },
  {
   "cell_type": "markdown",
   "id": "0635f7ae",
   "metadata": {},
   "source": [
    "Create embeddings using a sentence transformer. The model is [this](https://huggingface.co/pritamdeka/BioBERT-mnli-snli-scinli-scitail-mednli-stsb) one "
   ]
  },
  {
   "cell_type": "code",
   "execution_count": 4,
   "id": "5a60cb9e",
   "metadata": {},
   "outputs": [
    {
     "name": "stderr",
     "output_type": "stream",
     "text": [
      "Batches: 100%|██████████| 13273/13273 [08:51<00:00, 24.97it/s]\n"
     ]
    }
   ],
   "source": [
    "model_name = SentenceTransformer('pritamdeka/BioBERT-mnli-snli-scinli-scitail-mednli-stsb')\n",
    "embeddings = model_name.encode(data['cc_cleaned'].tolist(), show_progress_bar=True)"
   ]
  },
  {
   "cell_type": "markdown",
   "id": "b67ecefd",
   "metadata": {},
   "source": [
    "Reduce the dimensions and cluster.\n",
    "\n",
    "First, pick n for PCA"
   ]
  },
  {
   "cell_type": "code",
   "execution_count": 5,
   "id": "890e0bcb",
   "metadata": {},
   "outputs": [
    {
     "data": {
      "image/png": "[encoded data removed]",
      "text/plain": [
       "<Figure size 800x400 with 1 Axes>"
      ]
     },
     "metadata": {},
     "output_type": "display_data"
    }
   ],
   "source": [
    "X = embeddings\n",
    "# Compute PCA without reducing dimensions first\n",
    "pca_full = PCA(n_components=100)  \n",
    "pca_full.fit(X)\n",
    "\n",
    "# Plot cumulative explained variance\n",
    "cumulative_variance = np.cumsum(pca_full.explained_variance_ratio_)\n",
    "\n",
    "plt.figure(figsize=(8, 4))\n",
    "plt.plot(cumulative_variance, marker='o')\n",
    "plt.axhline(y=0.9, color='r', linestyle='--')  # commonly used threshold\n",
    "plt.xlabel('Number of Components')\n",
    "plt.ylabel('Cumulative Explained Variance')\n",
    "plt.title('Explained Variance vs. Number of PCA Components')\n",
    "plt.grid(True)\n",
    "plt.show()"
   ]
  },
  {
   "cell_type": "code",
   "execution_count": 6,
   "id": "65a1d278",
   "metadata": {},
   "outputs": [],
   "source": [
    "# Reduce dimensions to 80 before clustering\n",
    "pca = PCA(n_components=80)\n",
    "X_reduced = pca.fit_transform(X)"
   ]
  },
  {
   "cell_type": "markdown",
   "id": "6a749fd0",
   "metadata": {},
   "source": [
    "Now Get the elbow for K"
   ]
  },
  {
   "cell_type": "code",
   "execution_count": 17,
   "id": "3dc47300",
   "metadata": {},
   "outputs": [
    {
     "data": {
      "image/png": "[encoded data removed]",
      "text/plain": [
       "<Figure size 800x400 with 1 Axes>"
      ]
     },
     "metadata": {},
     "output_type": "display_data"
    }
   ],
   "source": [
    "inertias = []\n",
    "k_range = range(2, 20)\n",
    "for k in k_range:\n",
    "    km = KMeans(n_clusters=k, random_state=42, n_init=10)\n",
    "    km.fit(X_reduced)\n",
    "    inertias.append(km.inertia_)\n",
    "\n",
    "plt.figure(figsize=(8, 4))\n",
    "plt.plot(k_range, inertias, marker='o')\n",
    "plt.xlabel('Number of clusters (k)')\n",
    "plt.ylabel('Inertia')\n",
    "plt.title('Elbow Method for Optimal k')\n",
    "plt.grid(True)\n",
    "\n",
    "# Force x-axis ticks (req ticker)\n",
    "plt.gca().xaxis.set_major_locator(ticker.MaxNLocator(integer=True))\n",
    "\n",
    "plt.tight_layout()\n",
    "plt.show()"
   ]
  },
  {
   "cell_type": "code",
   "execution_count": 18,
   "id": "622e1bce",
   "metadata": {},
   "outputs": [],
   "source": [
    "# Cluster using K-means with k=12\n",
    "kmeans = KMeans(n_clusters=12, random_state=42, n_init=10)\n",
    "cluster_labels = kmeans.fit_predict(X_reduced)\n",
    "# Add back onto the original data\n",
    "data['cluster'] = cluster_labels"
   ]
  },
  {
   "cell_type": "markdown",
   "id": "7d44fca6",
   "metadata": {},
   "source": [
    "# Analyze"
   ]
  },
  {
   "cell_type": "markdown",
   "id": "bb719bc0",
   "metadata": {},
   "source": [
    "How many per cluster in order"
   ]
  },
  {
   "cell_type": "code",
   "execution_count": 8,
   "id": "794ae0b4",
   "metadata": {},
   "outputs": [
    {
     "data": {
      "text/plain": [
       "cluster\n",
       "7     77687\n",
       "5     51399\n",
       "4     48899\n",
       "2     48187\n",
       "0     36265\n",
       "3     36012\n",
       "6     30918\n",
       "1     29705\n",
       "9     23082\n",
       "11    18052\n",
       "8     12848\n",
       "10    11653\n",
       "Name: count, dtype: int64"
      ]
     },
     "execution_count": null,
     "metadata": {},
     "output_type": "execute_result"
    }
   ],
   "source": [
    "data['cluster'].value_counts()"
   ]
  },
  {
   "cell_type": "code",
   "execution_count": 9,
   "id": "fea25393",
   "metadata": {},
   "outputs": [
    {
     "data": {
      "text/plain": [
       "0"
      ]
     },
     "execution_count": null,
     "metadata": {},
     "output_type": "execute_result"
    }
   ],
   "source": [
    "data['cluster'].isnull().sum()"
   ]
  },
  {
   "cell_type": "code",
   "execution_count": 28,
   "id": "a75c222e",
   "metadata": {},
   "outputs": [
    {
     "name": "stdout",
     "output_type": "stream",
     "text": [
      "\n",
      "Cluster 0 (size=36265):\n",
      "  Most common bigrams/trigrams:\n",
      "    back pain: 14977\n",
      "    lower back: 5213\n",
      "    lower back pain: 5204\n",
      "    shoulder pain: 3377\n",
      "    arm pain: 3188\n",
      "    neck pain: 2669\n",
      "    pain fall: 1354\n",
      "    hand pain: 1063\n",
      "    chest pain: 1041\n",
      "    wrist pain: 977\n",
      "\n",
      "Cluster 1 (size=29705):\n",
      "  Most common bigrams/trigrams:\n",
      "    like illness: 5047\n",
      "    influenza like: 5046\n",
      "    influenza like illness: 5046\n",
      "    sore throat: 3927\n",
      "    allergic reaction: 2394\n",
      "    asthma exacerbation: 1023\n",
      "    cough fever: 577\n",
      "    cough influenza: 503\n",
      "    cough influenza like: 501\n",
      "    fever influenza: 499\n",
      "\n",
      "Cluster 2 (size=48187):\n",
      "  Most common bigrams/trigrams:\n",
      "    vehicle collision: 5576\n",
      "    mental status: 4540\n",
      "    altered mental: 4427\n",
      "    altered mental status: 4419\n",
      "    head injury: 2113\n",
      "    eye pain: 2007\n",
      "    ear pain: 1489\n",
      "    visual changes: 1390\n",
      "    neck pain: 1224\n",
      "    facial swelling: 940\n",
      "\n",
      "Cluster 3 (size=36012):\n",
      "  Most common bigrams/trigrams:\n",
      "    chest pain: 25556\n",
      "    pain dyspnea: 2610\n",
      "    chest pain dyspnea: 2593\n",
      "    pain transfer: 846\n",
      "    pain cardiac: 843\n",
      "    cardiac features: 843\n",
      "    chest pain cardiac: 843\n",
      "    pain cardiac features: 843\n",
      "    chest pain transfer: 827\n",
      "    pain palpitations: 537\n",
      "\n",
      "Cluster 4 (size=48899):\n",
      "  Most common bigrams/trigrams:\n",
      "    shortness breath: 3077\n",
      "    dyspnea exertion: 1320\n",
      "    urinary retention: 1310\n",
      "    unable ambulate: 903\n",
      "    cough dyspnea: 802\n",
      "    mental status: 664\n",
      "    altered mental: 661\n",
      "    altered mental status: 661\n",
      "    abnormal labs: 614\n",
      "    respiratory distress: 529\n",
      "\n",
      "Cluster 5 (size=51399):\n",
      "  Most common bigrams/trigrams:\n",
      "    abdomen pain: 28741\n",
      "    abdominal pain: 11611\n",
      "    quadrant abdominal: 6344\n",
      "    quadrant abdominal pain: 6342\n",
      "    flank pain: 6088\n",
      "    lower quadrant: 4493\n",
      "    lower quadrant abdominal: 4367\n",
      "    upper quadrant: 2710\n",
      "    pain transfer: 2131\n",
      "    upper quadrant abdominal: 1976\n",
      "\n",
      "Cluster 6 (size=30918):\n",
      "  Most common bigrams/trigrams:\n",
      "    leg pain: 5570\n",
      "    knee pain: 4947\n",
      "    foot pain: 4054\n",
      "    leg swelling: 2965\n",
      "    ankle pain: 2169\n",
      "    hip pain: 1993\n",
      "    ankle injury: 1543\n",
      "    toe pain: 1131\n",
      "    pain leg: 1051\n",
      "    calf pain: 967\n",
      "\n",
      "Cluster 7 (size=77687):\n",
      "  Most common bigrams/trigrams:\n",
      "    wound evaluation: 6071\n",
      "    abnormal labs: 3642\n",
      "    vaginal bleeding: 1758\n",
      "    finger laceration: 1420\n",
      "    hand injury: 1274\n",
      "    finger injury: 1014\n",
      "    psych evaluation: 925\n",
      "    abnormal ct: 786\n",
      "    unknown cc: 725\n",
      "    substance use: 659\n",
      "\n",
      "Cluster 8 (size=12848):\n",
      "  Most common bigrams/trigrams:\n",
      "    alcohol intoxication: 11309\n",
      "    unable ambulate: 1595\n",
      "    intoxication unable: 1471\n",
      "    alcohol intoxication unable: 1471\n",
      "    intoxication unable ambulate: 1467\n",
      "    suicidal ideation: 558\n",
      "    pain alcohol: 500\n",
      "    pain alcohol intoxication: 494\n",
      "    intoxication fall: 488\n",
      "    alcohol intoxication fall: 488\n",
      "\n",
      "Cluster 9 (size=23082):\n",
      "  Most common bigrams/trigrams:\n",
      "    nausea vomiting: 14340\n",
      "    abdomen pain: 6723\n",
      "    pain nausea: 5862\n",
      "    pain nausea vomiting: 4462\n",
      "    abdomen pain nausea: 4427\n",
      "    pain vomiting: 1108\n",
      "    abdomen pain vomiting: 869\n",
      "    headache nausea: 853\n",
      "    dizziness nausea: 784\n",
      "    vomiting abdomen: 742\n",
      "\n",
      "Cluster 10 (size=11653):\n",
      "  Most common bigrams/trigrams:\n",
      "    suicidal ideation: 7994\n",
      "    depression suicidal: 738\n",
      "    homicidal ideation: 463\n",
      "    depression suicidal ideation: 443\n",
      "    ideation depression: 303\n",
      "    suicidal ideation depression: 303\n",
      "    self harm: 298\n",
      "    deliberate self: 296\n",
      "    deliberate self harm: 296\n",
      "    suicidal deliberate: 295\n",
      "\n",
      "Cluster 11 (size=18052):\n",
      "  Most common bigrams/trigrams:\n",
      "    fall transfer: 1548\n",
      "    head injury: 959\n",
      "    pedestrian struck: 875\n",
      "    injury fall: 859\n",
      "    hip pain: 758\n",
      "    pain fall: 702\n",
      "    head injury fall: 538\n",
      "    fracture fall: 512\n",
      "    fall head: 506\n",
      "    hip pain fall: 447\n"
     ]
    }
   ],
   "source": [
    "from sklearn.feature_extraction.text import CountVectorizer\n",
    "\n",
    "for cluster_id in range(kmeans.n_clusters):\n",
    "    cluster_data = data[data['cluster'] == cluster_id]['cc_cleaned']\n",
    "    print(f\"\\nCluster {cluster_id} (size={len(cluster_data)}):\")\n",
    "\n",
    "    \n",
    "    # Use CountVectorizer to extract n-grams\n",
    "    vectorizer = CountVectorizer(ngram_range=(2,3), max_features=20)\n",
    "    X_ngrams = vectorizer.fit_transform(cluster_data)\n",
    "    ngram_counts = X_ngrams.sum(axis=0)\n",
    "    ngram_freq = [(ngram, ngram_counts[0, idx]) for ngram, idx in vectorizer.vocabulary_.items()]\n",
    "    ngram_freq_sorted = sorted(ngram_freq, key=lambda x: -x[1])\n",
    "    \n",
    "    print(\"  Most common bigrams/trigrams:\")\n",
    "    for ngram, freq in ngram_freq_sorted[:10]:\n",
    "        print(f\"    {ngram}: {freq}\")\n"
   ]
  },
  {
   "cell_type": "markdown",
   "id": "b4469e10",
   "metadata": {},
   "source": [
    "# Save"
   ]
  },
  {
   "cell_type": "code",
   "execution_count": 29,
   "id": "2ddf82eb",
   "metadata": {},
   "outputs": [],
   "source": [
    "data.to_parquet('chiefcomp_clustered.parquet', index=False)"
   ]
  },
  {
   "cell_type": "code",
   "execution_count": 12,
   "id": "6e9cc51f",
   "metadata": {},
   "outputs": [],
   "source": [
    "# Save as pickle\n",
    "import pickle\n",
    "\n",
    "with open('chiefcomp_data.pkl', 'wb') as f:\n",
    "    pickle.dump({'data': data, 'embeddings': embeddings}, f)"
   ]
  }
 ],
 "metadata": {
  "kernelspec": {
   "display_name": "basic_data_sci",
   "language": "python",
   "name": "python3"
  },
  "language_info": {
   "codemirror_mode": {
    "name": "ipython",
    "version": 3
   },
   "file_extension": ".py",
   "mimetype": "text/x-python",
   "name": "python",
   "nbconvert_exporter": "python",
   "pygments_lexer": "ipython3",
   "version": "3.12.2"
  }
 },
 "nbformat": 4,
 "nbformat_minor": 5
}
